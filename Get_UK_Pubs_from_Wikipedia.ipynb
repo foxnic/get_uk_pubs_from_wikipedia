{
  "nbformat": 4,
  "nbformat_minor": 0,
  "metadata": {
    "colab": {
      "name": "Get UK Pubs from Wikipedia",
      "provenance": [],
      "collapsed_sections": [],
      "toc_visible": true
    },
    "kernelspec": {
      "name": "python3",
      "display_name": "Python 3"
    }
  },
  "cells": [
    {
      "cell_type": "markdown",
      "metadata": {
        "id": "lPMIimdT9Agg"
      },
      "source": [
        "# Get UK Pubs from Wikipedia"
      ]
    },
    {
      "cell_type": "code",
      "metadata": {
        "colab": {
          "base_uri": "https://localhost:8080/"
        },
        "id": "xLYO1zVI87xv",
        "outputId": "22c1e17c-ce9a-476d-8344-f6337d1cf43a"
      },
      "source": [
        "!pip install beautifulsoup4"
      ],
      "execution_count": null,
      "outputs": [
        {
          "output_type": "stream",
          "text": [
            "Requirement already satisfied: beautifulsoup4 in /usr/local/lib/python3.6/dist-packages (4.6.3)\n"
          ],
          "name": "stdout"
        }
      ]
    },
    {
      "cell_type": "code",
      "metadata": {
        "colab": {
          "base_uri": "https://localhost:8080/"
        },
        "id": "l_lrVoB39LWV",
        "outputId": "da9712a1-1af5-49dc-abcd-f180c69dc2fa"
      },
      "source": [
        "!pip install urllib3"
      ],
      "execution_count": null,
      "outputs": [
        {
          "output_type": "stream",
          "text": [
            "Requirement already satisfied: urllib3 in /usr/local/lib/python3.6/dist-packages (1.24.3)\n"
          ],
          "name": "stdout"
        }
      ]
    },
    {
      "cell_type": "code",
      "metadata": {
        "colab": {
          "base_uri": "https://localhost:8080/"
        },
        "id": "ZMPZFag2-w36",
        "outputId": "710e88e6-571d-4c53-c134-3d64992b7fed"
      },
      "source": [
        "!pip install wikipedia"
      ],
      "execution_count": null,
      "outputs": [
        {
          "output_type": "stream",
          "text": [
            "Collecting wikipedia\n",
            "  Downloading https://files.pythonhosted.org/packages/67/35/25e68fbc99e672127cc6fbb14b8ec1ba3dfef035bf1e4c90f78f24a80b7d/wikipedia-1.4.0.tar.gz\n",
            "Requirement already satisfied: beautifulsoup4 in /usr/local/lib/python3.6/dist-packages (from wikipedia) (4.6.3)\n",
            "Requirement already satisfied: requests<3.0.0,>=2.0.0 in /usr/local/lib/python3.6/dist-packages (from wikipedia) (2.23.0)\n",
            "Requirement already satisfied: urllib3!=1.25.0,!=1.25.1,<1.26,>=1.21.1 in /usr/local/lib/python3.6/dist-packages (from requests<3.0.0,>=2.0.0->wikipedia) (1.24.3)\n",
            "Requirement already satisfied: chardet<4,>=3.0.2 in /usr/local/lib/python3.6/dist-packages (from requests<3.0.0,>=2.0.0->wikipedia) (3.0.4)\n",
            "Requirement already satisfied: idna<3,>=2.5 in /usr/local/lib/python3.6/dist-packages (from requests<3.0.0,>=2.0.0->wikipedia) (2.10)\n",
            "Requirement already satisfied: certifi>=2017.4.17 in /usr/local/lib/python3.6/dist-packages (from requests<3.0.0,>=2.0.0->wikipedia) (2020.12.5)\n",
            "Building wheels for collected packages: wikipedia\n",
            "  Building wheel for wikipedia (setup.py) ... \u001b[?25l\u001b[?25hdone\n",
            "  Created wheel for wikipedia: filename=wikipedia-1.4.0-cp36-none-any.whl size=11686 sha256=f76e6a3ec7a686f9e0f4c286d47b708c9046e8aa23a725f411f137c418c4e482\n",
            "  Stored in directory: /root/.cache/pip/wheels/87/2a/18/4e471fd96d12114d16fe4a446d00c3b38fb9efcb744bd31f4a\n",
            "Successfully built wikipedia\n",
            "Installing collected packages: wikipedia\n",
            "Successfully installed wikipedia-1.4.0\n"
          ],
          "name": "stdout"
        }
      ]
    },
    {
      "cell_type": "code",
      "metadata": {
        "colab": {
          "base_uri": "https://localhost:8080/"
        },
        "id": "L9HoT2cqA5OB",
        "outputId": "ce61ceec-e690-42f5-d8d9-4fbbb309e539"
      },
      "source": [
        "!pip install requests"
      ],
      "execution_count": null,
      "outputs": [
        {
          "output_type": "stream",
          "text": [
            "Requirement already satisfied: requests in /usr/local/lib/python3.6/dist-packages (2.23.0)\n",
            "Requirement already satisfied: idna<3,>=2.5 in /usr/local/lib/python3.6/dist-packages (from requests) (2.10)\n",
            "Requirement already satisfied: certifi>=2017.4.17 in /usr/local/lib/python3.6/dist-packages (from requests) (2020.12.5)\n",
            "Requirement already satisfied: urllib3!=1.25.0,!=1.25.1,<1.26,>=1.21.1 in /usr/local/lib/python3.6/dist-packages (from requests) (1.24.3)\n",
            "Requirement already satisfied: chardet<4,>=3.0.2 in /usr/local/lib/python3.6/dist-packages (from requests) (3.0.4)\n"
          ],
          "name": "stdout"
        }
      ]
    },
    {
      "cell_type": "code",
      "metadata": {
        "id": "cR7qvbB5-pCp"
      },
      "source": [
        "import requests\n",
        "from bs4 import BeautifulSoup\n",
        "import pandas as pd"
      ],
      "execution_count": null,
      "outputs": []
    },
    {
      "cell_type": "code",
      "metadata": {
        "id": "cyM3PTtdLzjd"
      },
      "source": [
        "website_url = requests.get(\"https://en.wikipedia.org/wiki/List_of_pubs_in_the_United_Kingdom\").text"
      ],
      "execution_count": null,
      "outputs": []
    },
    {
      "cell_type": "code",
      "metadata": {
        "id": "yVU2QLRNLzjt"
      },
      "source": [
        "soup = BeautifulSoup(website_url,\"lxml\")"
      ],
      "execution_count": null,
      "outputs": []
    },
    {
      "cell_type": "code",
      "metadata": {
        "colab": {
          "base_uri": "https://localhost:8080/"
        },
        "id": "igtPT2bx9Wbm",
        "outputId": "6607577c-2f24-458d-e0ae-75df468cf639"
      },
      "source": [
        "list_elements = []\n",
        "for tag in soup.find_all(\"li\")[18:]:\n",
        "    list_elements.append(\"{0}: {1}\".format(tag.name, tag.text))\n",
        "\n",
        "# remove elements that contain ^ \n",
        "list_elements = [ x for x in list_elements if \"^\" not in x]\n",
        "\n",
        "# remove 'li: ' at start\n",
        "list_elements = [s.replace('li: ', '') for s in list_elements]\n",
        "\n",
        "# remove everything  and including \"Pub names\"\n",
        "target_index = list_elements.index('Pub names')\n",
        "list_elements = list_elements[:target_index]\n",
        "\n",
        "# remove anyting containing 'See Category:' and \"United Kingdom portal\"\n",
        "unwanted = ['United Kingdom portal']\n",
        "list_elements = [x for x in list_elements if x not in unwanted]\n",
        "list_elements = [ x for x in list_elements if \"See Category\" not in x]\n",
        "\n",
        "# split each row on a comma and get the text before the first comma\n",
        "sep = \",\"\n",
        "list_elements = [s.split(sep, 1)[0] for s in list_elements]\n",
        "\n",
        "# split each row on \"is a\" and get everything before \"is a\"\n",
        "sep = \" is a \"\n",
        "list_elements = [s.split(sep, 1)[0] for s in list_elements]\n",
        "\n",
        "# split each row on \"was built\" and get everything before \"was built\"\n",
        "sep = \" was built \"\n",
        "list_elements = [s.split(sep, 1)[0] for s in list_elements]\n",
        "\n",
        "# split each row on \"on the corner of\" and get everything before \"on the corner of\"\n",
        "sep = \" on the corner of \"\n",
        "list_elements = [s.split(sep, 1)[0] for s in list_elements]\n",
        "\n",
        "# split each row on \"(\" and get everything before \"(\"\n",
        "sep = \"(\"\n",
        "list_elements = [s.split(sep, 1)[0] for s in list_elements]\n",
        "\n",
        "# split each row on \".\" and get everything before \".\"\n",
        "sep = \".\"\n",
        "list_elements = [s.split(sep, 1)[0] for s in list_elements]\n",
        "\n",
        "# split each row on \" is \" and get everything before \" is \"\n",
        "sep = \" is \"\n",
        "list_elements = [s.split(sep, 1)[0] for s in list_elements]\n",
        "\n",
        "# split each row on \" may \" and get everything before \" may \"\n",
        "sep = \" may \"\n",
        "list_elements = [s.split(sep, 1)[0] for s in list_elements]\n",
        "\n",
        "# split each row on \";\" and get everything before \";\"\n",
        "sep = \";\"\n",
        "list_elements = [s.split(sep, 1)[0] for s in list_elements]\n",
        "\n",
        "# split each row on \"owned\" and get everything before \"owned\"\n",
        "sep = \"owned\"\n",
        "list_elements = [s.split(sep, 1)[0] for s in list_elements]\n",
        "\n",
        "# split each row on \"opposite\" and get everything before \"opposite\"\n",
        "sep = \"opposite\"\n",
        "list_elements = [s.split(sep, 1)[0] for s in list_elements]\n",
        "\n",
        "list_elements"
      ],
      "execution_count": null,
      "outputs": [
        {
          "output_type": "execute_result",
          "data": {
            "text/plain": [
              "['The Adam and Eve',\n",
              " 'The Berney Arms in Norfolk',\n",
              " 'The Eagle in Benet Street',\n",
              " 'The Nutshell',\n",
              " 'Ye Olde Trip to Jerusalem in Nottingham',\n",
              " 'Ye Olde Salutation Inn in Nottingham',\n",
              " 'The Bell Inn in Nottingham',\n",
              " 'Ram Jam Inn',\n",
              " 'The Alchemist',\n",
              " 'The Angel',\n",
              " 'The Blind Beggar',\n",
              " 'The Britannia',\n",
              " \"The Bull's Head\",\n",
              " 'The Carlton Tavern in Kilburn',\n",
              " \"Crocker's Folly\",\n",
              " 'De Hems',\n",
              " \"Dirty Dick's\",\n",
              " 'The Dove',\n",
              " 'The Drayton Court in Ealing',\n",
              " 'The Feathers',\n",
              " 'The Finborough Arms',\n",
              " 'Fitzroy Tavern',\n",
              " 'The George Inn',\n",
              " 'The Grapes',\n",
              " 'The Grapes',\n",
              " 'The Grenadier',\n",
              " 'The Hare and Hounds',\n",
              " \"King's Head\",\n",
              " 'The Lamb',\n",
              " 'The Magdala Tavern',\n",
              " 'The Old Queens Head',\n",
              " 'The Old Ship',\n",
              " 'The Princess Louise',\n",
              " 'The Prospect of Whitby',\n",
              " 'The Red Lion',\n",
              " 'The Sherlock Holmes',\n",
              " 'Spaniards Inn',\n",
              " 'Sun in the Sands',\n",
              " 'The Sun Inn',\n",
              " 'The White Cross',\n",
              " 'The White Hart',\n",
              " 'The Winchester in Highgate',\n",
              " 'Ye Olde Cheshire Cheese in Fleet Street',\n",
              " 'Marsden Grotto',\n",
              " \"The Fisher's Arms\",\n",
              " 'The White Lion Inn',\n",
              " 'The Philharmonic Dining Rooms',\n",
              " 'The Scotch Piper',\n",
              " 'The Cat and Fiddle Inn in Cheshire',\n",
              " 'Ye Olde Man and Scythe',\n",
              " 'The Moon Under Water',\n",
              " 'The Old Wellington Inn',\n",
              " 'Boot Inn',\n",
              " 'Bear and Billet',\n",
              " \"Old King's Head Hotel\",\n",
              " 'Old Custom House Inn',\n",
              " 'The Falcon',\n",
              " 'Town Crier public house',\n",
              " \"Telford's Warehouse\",\n",
              " \"Bear's Paw Hotel\",\n",
              " 'Old Hall Hotel',\n",
              " \"The King's Head\",\n",
              " 'The Stag Inn',\n",
              " 'The Hand & Flowers in Marlow',\n",
              " 'The John Brunt V',\n",
              " 'The Seven Stars Inn',\n",
              " 'Ye Olde Fighting Cocks',\n",
              " 'Jamaica Inn in Bolventor',\n",
              " 'The Warren House Inn',\n",
              " 'Luttrell Arms',\n",
              " \"George Hotel and Pilgrims' Inn\",\n",
              " 'The Queens Hall Minehead',\n",
              " 'The George Inn',\n",
              " 'Tudor Tavern',\n",
              " 'The Black Castle Public House in the Brislington area of the city',\n",
              " 'The Coronation Tap',\n",
              " 'The Crown',\n",
              " 'The Hatchet on Frogmore Street',\n",
              " 'The King William Ale House and The Famous Royal Navy Volunteer Public House on King Street',\n",
              " 'The Llandoger Trow on King Street',\n",
              " 'The Mauretania ',\n",
              " 'The Nova Scotia',\n",
              " 'The Old Duke on King Street ',\n",
              " 'The Old Post Office',\n",
              " 'The Palace Hotel',\n",
              " 'The Printers Devil',\n",
              " 'The Pump House in the Hotwells district',\n",
              " 'The Seven Stars on St',\n",
              " 'The Shakespeare on Prince Street',\n",
              " 'The Shakespeare Inn on Victoria Street',\n",
              " 'The Stag & Hounds',\n",
              " 'The Victoria also in the suburb of Clifton',\n",
              " 'The Bat & Ball Inn',\n",
              " 'The Bell Inn at Aldworth in Berkshire',\n",
              " 'The Trout Inn',\n",
              " 'The Bear Inn',\n",
              " \"The Eagle and Child on St Giles' in Oxford \",\n",
              " 'The Lamb & Flag',\n",
              " 'The Turf Tavern',\n",
              " 'The Red Lion Inn',\n",
              " 'The Adam & Eve',\n",
              " 'The Crooked House ',\n",
              " 'The Dirty Duck in Stratford-upon-Avon',\n",
              " 'The Garrick Inn',\n",
              " 'The Old Crown in Deritend',\n",
              " 'The Lad in the Lane in Erdington',\n",
              " 'The Bingley Arms',\n",
              " 'The Kelham Island Tavern',\n",
              " 'The New Penny',\n",
              " \"The Old Queen's Head\",\n",
              " 'The Tan Hill Inn in Yorkshire',\n",
              " 'Abbey Hotel',\n",
              " 'Albion Ale House',\n",
              " 'The Blue Anchor Inn',\n",
              " 'Golden Cross',\n",
              " 'The Robin Hood Inn',\n",
              " 'The Vulcan',\n",
              " 'Ye Olde Murenger House',\n",
              " 'Black Boy Inn',\n",
              " 'The Griffin']"
            ]
          },
          "metadata": {
            "tags": []
          },
          "execution_count": 25
        }
      ]
    },
    {
      "cell_type": "code",
      "metadata": {
        "colab": {
          "base_uri": "https://localhost:8080/",
          "height": 453
        },
        "id": "zu8JvqH4HG6f",
        "outputId": "e223f77d-8a57-45c7-8a53-dbf0892a92ba"
      },
      "source": [
        "# strip leading/trailing white space from the company names\n",
        "list_elements = [s.strip() for s in list_elements]\n",
        "\n",
        "pubs = list_elements\n",
        "print(\"Number of pubs:\", len(pubs), \"\\n\")\n",
        "pubs = pd.DataFrame(pubs)\n",
        "pubs.columns = [\"pub\"]\n",
        "pubs.to_csv('pubs.csv')\n",
        "pubs"
      ],
      "execution_count": null,
      "outputs": [
        {
          "output_type": "stream",
          "text": [
            "Number of pubs: 120 \n",
            "\n"
          ],
          "name": "stdout"
        },
        {
          "output_type": "execute_result",
          "data": {
            "text/html": [
              "<div>\n",
              "<style scoped>\n",
              "    .dataframe tbody tr th:only-of-type {\n",
              "        vertical-align: middle;\n",
              "    }\n",
              "\n",
              "    .dataframe tbody tr th {\n",
              "        vertical-align: top;\n",
              "    }\n",
              "\n",
              "    .dataframe thead th {\n",
              "        text-align: right;\n",
              "    }\n",
              "</style>\n",
              "<table border=\"1\" class=\"dataframe\">\n",
              "  <thead>\n",
              "    <tr style=\"text-align: right;\">\n",
              "      <th></th>\n",
              "      <th>pub</th>\n",
              "    </tr>\n",
              "  </thead>\n",
              "  <tbody>\n",
              "    <tr>\n",
              "      <th>0</th>\n",
              "      <td>The Adam and Eve</td>\n",
              "    </tr>\n",
              "    <tr>\n",
              "      <th>1</th>\n",
              "      <td>The Berney Arms in Norfolk</td>\n",
              "    </tr>\n",
              "    <tr>\n",
              "      <th>2</th>\n",
              "      <td>The Eagle in Benet Street</td>\n",
              "    </tr>\n",
              "    <tr>\n",
              "      <th>3</th>\n",
              "      <td>The Nutshell</td>\n",
              "    </tr>\n",
              "    <tr>\n",
              "      <th>4</th>\n",
              "      <td>Ye Olde Trip to Jerusalem in Nottingham</td>\n",
              "    </tr>\n",
              "    <tr>\n",
              "      <th>...</th>\n",
              "      <td>...</td>\n",
              "    </tr>\n",
              "    <tr>\n",
              "      <th>115</th>\n",
              "      <td>The Robin Hood Inn</td>\n",
              "    </tr>\n",
              "    <tr>\n",
              "      <th>116</th>\n",
              "      <td>The Vulcan</td>\n",
              "    </tr>\n",
              "    <tr>\n",
              "      <th>117</th>\n",
              "      <td>Ye Olde Murenger House</td>\n",
              "    </tr>\n",
              "    <tr>\n",
              "      <th>118</th>\n",
              "      <td>Black Boy Inn</td>\n",
              "    </tr>\n",
              "    <tr>\n",
              "      <th>119</th>\n",
              "      <td>The Griffin</td>\n",
              "    </tr>\n",
              "  </tbody>\n",
              "</table>\n",
              "<p>120 rows × 1 columns</p>\n",
              "</div>"
            ],
            "text/plain": [
              "                                         pub\n",
              "0                           The Adam and Eve\n",
              "1                 The Berney Arms in Norfolk\n",
              "2                  The Eagle in Benet Street\n",
              "3                               The Nutshell\n",
              "4    Ye Olde Trip to Jerusalem in Nottingham\n",
              "..                                       ...\n",
              "115                       The Robin Hood Inn\n",
              "116                               The Vulcan\n",
              "117                   Ye Olde Murenger House\n",
              "118                            Black Boy Inn\n",
              "119                              The Griffin\n",
              "\n",
              "[120 rows x 1 columns]"
            ]
          },
          "metadata": {
            "tags": []
          },
          "execution_count": 27
        }
      ]
    },
    {
      "cell_type": "code",
      "metadata": {
        "id": "r8xEFm5WMLYP"
      },
      "source": [
        ""
      ],
      "execution_count": null,
      "outputs": []
    }
  ]
}